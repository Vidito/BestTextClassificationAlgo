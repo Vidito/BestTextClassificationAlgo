{
 "cells": [
  {
   "cell_type": "code",
   "execution_count": 4,
   "id": "10e959e2",
   "metadata": {
    "scrolled": true
   },
   "outputs": [],
   "source": [
    "# !pip install scikit-learn"
   ]
  },
  {
   "cell_type": "markdown",
   "id": "3ef323c0",
   "metadata": {},
   "source": [
    " We will use the fetch_20newsgroups function from scikit-learn to download the data and split it into training and testing sets. We will also use the TfidfVectorizer class to transform the raw text into numerical features that represent the term frequency-inverse document frequency (TF-IDF) of each word in each document. TF-IDF is a common way to measure how important a word is in a document relative to the whole corpus."
   ]
  },
  {
   "cell_type": "code",
   "execution_count": 2,
   "id": "fc7a7485",
   "metadata": {},
   "outputs": [],
   "source": [
    "# Import libraries\n",
    "\n",
    "from sklearn.datasets import fetch_20newsgroups\n",
    "from sklearn.feature_extraction.text import TfidfVectorizer\n",
    "from sklearn.svm import LinearSVC\n",
    "from sklearn.naive_bayes import MultinomialNB\n",
    "from sklearn.ensemble import RandomForestClassifier\n",
    "from sklearn.neighbors import KNeighborsClassifier\n",
    "from sklearn.metrics import accuracy_score, confusion_matrix, classification_report\n",
    "\n",
    "# Load the dataset and split into train and test sets\n",
    "\n",
    "categories = ['alt.atheism', 'comp.graphics', 'rec.sport.baseball', 'sci.med']\n",
    "newsgroups = fetch_20newsgroups(subset='all', categories=categories, shuffle=True, random_state=42)\n",
    "X_train = newsgroups.data[:3000]\n",
    "y_train = newsgroups.target[:3000]\n",
    "X_test = newsgroups.data[3000:]\n",
    "y_test = newsgroups.target[3000:]\n",
    "\n",
    "# Transform the text into TF-IDF features\n",
    "\n",
    "vectorizer = TfidfVectorizer(stop_words='english', max_features=1000)\n",
    "X_train_tfidf = vectorizer.fit_transform(X_train)\n",
    "X_test_tfidf = vectorizer.transform(X_test)"
   ]
  },
  {
   "cell_type": "markdown",
   "id": "6827b4e6",
   "metadata": {},
   "source": [
    "Now we are ready to train and evaluate our models. We will use four different algorithms: SVM, MNB, random forest, and k-nearest neighbor."
   ]
  },
  {
   "cell_type": "code",
   "execution_count": 5,
   "id": "0322ed0b",
   "metadata": {},
   "outputs": [],
   "source": [
    "# Train and evaluate SVM\n",
    "\n",
    "svm = LinearSVC(random_state=42)\n",
    "svm.fit(X_train_tfidf, y_train)\n",
    "y_pred_svm = svm.predict(X_test_tfidf)\n",
    "acc_svm = accuracy_score(y_test, y_pred_svm)\n",
    "print(f'SVM accuracy: {acc_svm:.2f}')\n",
    "\n",
    "# Train and evaluate MNB\n",
    "\n",
    "mnb = MultinomialNB()\n",
    "mnb.fit(X_train_tfidf, y_train)\n",
    "y_pred_mnb = mnb.predict(X_test_tfidf)\n",
    "acc_mnb = accuracy_score(y_test, y_pred_mnb)\n",
    "print(f'MNB accuracy: {acc_mnb:.2f}')\n",
    "\n",
    "# Train and evaluate random forest\n",
    "\n",
    "rf = RandomForestClassifier(random_state=42)\n",
    "rf.fit(X_train_tfidf, y_train)\n",
    "y_pred_rf = rf.predict(X_test_tfidf)\n",
    "acc_rf = accuracy_score(y_test, y_pred_rf)\n",
    "print(f'Random forest accuracy: {acc_rf:.2f}')\n",
    "\n",
    "# Train and evaluate KNN\n",
    "\n",
    "knn = KNeighborsClassifier(n_neighbors=6)\n",
    "knn.fit(X_train_tfidf, y_train)\n",
    "y_pred_knn = knn.predict(X_test_tfidf)\n",
    "acc_knn = accuracy_score(y_test, y_pred_knn)\n",
    "print(f'KNN accuracy: {acc_knn:.2f}')"
   ]
  },
  {
   "cell_type": "markdown",
   "id": "156521e9",
   "metadata": {},
   "source": [
    "Here is the output:\n",
    "\n",
    "- SVM accuracy: 0.94\n",
    "- MNB accuracy: 0.93\n",
    "- Random forest accuracy: 0.92\n",
    "- KNN accuracy: 0.89"
   ]
  },
  {
   "cell_type": "code",
   "execution_count": null,
   "id": "4633dd44",
   "metadata": {},
   "outputs": [],
   "source": []
  },
  {
   "cell_type": "code",
   "execution_count": null,
   "id": "6d909dad",
   "metadata": {},
   "outputs": [],
   "source": []
  },
  {
   "cell_type": "code",
   "execution_count": null,
   "id": "00aac808",
   "metadata": {},
   "outputs": [],
   "source": []
  }
 ],
 "metadata": {
  "kernelspec": {
   "display_name": "Python 3 (ipykernel)",
   "language": "python",
   "name": "python3"
  },
  "language_info": {
   "codemirror_mode": {
    "name": "ipython",
    "version": 3
   },
   "file_extension": ".py",
   "mimetype": "text/x-python",
   "name": "python",
   "nbconvert_exporter": "python",
   "pygments_lexer": "ipython3",
   "version": "3.9.16"
  }
 },
 "nbformat": 4,
 "nbformat_minor": 5
}
